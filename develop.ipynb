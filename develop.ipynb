{
 "cells": [
  {
   "cell_type": "code",
   "execution_count": null,
   "metadata": {},
   "outputs": [],
   "source": [
    "from chatbot import CafeFinder\n",
    "\n",
    "my_class = CafeFinder(\"تهران (استان)\", \"aa-cMenpBRK6Adc94FY7GOCGfWsL3ac5JNn7guKcWPxGw0WwmLg\", \"https://api.avalai.ir/v1\", \"gpt-4o\")"
   ]
  },
  {
   "cell_type": "code",
   "execution_count": 7,
   "metadata": {},
   "outputs": [
    {
     "name": "stderr",
     "output_type": "stream",
     "text": [
      "INFO:root:Chat created with this ID: 0f42f04f-6ce5-40d3-b93a-2ceef650a1ee\n",
      "INFO:httpx:HTTP Request: POST https://api.avalai.ir/v1/chat/completions \"HTTP/1.1 200 OK\"\n",
      "INFO:root:Extracted information: {'name': None, 'area': 'سعادت آباد', 'subway': None, 'smoking': None, 'open_space': None, 'breakfast': None, 'music': None, 'vip_space': None, 'entertainment': None, 'WiFi': None, 'time_limit': None, 'stream': True}\n",
      "INFO:root:Updated information: {'name': None, 'area': 'سعادت آباد', 'subway': None, 'smoking': None, 'open_space': None, 'breakfast': None, 'music': None, 'vip_space': None, 'entertainment': None, 'WiFi': None, 'time_limit': None, 'stream': True}\n",
      "INFO:root:Number of required criteria: 2\n",
      "INFO:root:Number of retrieved items: 329\n",
      "INFO:root:With the maximum point: 2\n",
      "INFO:root:Number of retrieved items after filtering: 15\n"
     ]
    },
    {
     "name": "stdout",
     "output_type": "stream",
     "text": [
      "{\n",
      "  \"name\": null,\n",
      "  \"area\": \"سعادت آباد\",\n",
      "  \"subway\": null,\n",
      "  \"smoking\": null,\n",
      "  \"open_space\": null,\n",
      "  \"breakfast\": null,\n",
      "  \"music\": null,\n",
      "  \"vip_space\": null,\n",
      "  \"entertainment\": null,\n",
      "  \"WiFi\": null,\n",
      "  \"time_limit\": null,\n",
      "  \"stream\": \"yes\"\n",
      "}\n"
     ]
    },
    {
     "name": "stderr",
     "output_type": "stream",
     "text": [
      "INFO:httpx:HTTP Request: POST https://api.avalai.ir/v1/chat/completions \"HTTP/1.1 200 OK\"\n",
      "INFO:root:Conversation finished\n",
      "INFO:root:Chat retrieved with this ID: 0f42f04f-6ce5-40d3-b93a-2ceef650a1ee\n",
      "INFO:httpx:HTTP Request: POST https://api.avalai.ir/v1/chat/completions \"HTTP/1.1 200 OK\"\n",
      "INFO:root:Extracted information: {'name': None, 'area': None, 'subway': None, 'smoking': True, 'open_space': None, 'breakfast': None, 'music': None, 'vip_space': None, 'entertainment': None, 'WiFi': None, 'time_limit': None, 'stream': None}\n",
      "INFO:root:Updated information: {'name': None, 'area': 'سعادت آباد', 'subway': None, 'smoking': True, 'open_space': None, 'breakfast': None, 'music': None, 'vip_space': None, 'entertainment': None, 'WiFi': None, 'time_limit': None, 'stream': True}\n",
      "INFO:root:Number of required criteria: 3\n",
      "INFO:root:Number of retrieved items: 610\n",
      "INFO:root:With the maximum point: 3\n",
      "INFO:root:Number of retrieved items after filtering: 10\n"
     ]
    },
    {
     "name": "stdout",
     "output_type": "stream",
     "text": [
      "{\n",
      "  \"name\": null,\n",
      "  \"area\": null,\n",
      "  \"subway\": null,\n",
      "  \"smoking\": \"yes\",\n",
      "  \"open_space\": null,\n",
      "  \"breakfast\": null,\n",
      "  \"music\": null,\n",
      "  \"vip_space\": null,\n",
      "  \"entertainment\": null,\n",
      "  \"WiFi\": null,\n",
      "  \"time_limit\": null,\n",
      "  \"stream\": null\n",
      "}\n"
     ]
    },
    {
     "name": "stderr",
     "output_type": "stream",
     "text": [
      "INFO:httpx:HTTP Request: POST https://api.avalai.ir/v1/chat/completions \"HTTP/1.1 200 OK\"\n",
      "INFO:root:Conversation finished\n",
      "INFO:root:Chat retrieved with this ID: 0f42f04f-6ce5-40d3-b93a-2ceef650a1ee\n",
      "INFO:httpx:HTTP Request: POST https://api.avalai.ir/v1/chat/completions \"HTTP/1.1 200 OK\"\n",
      "INFO:root:Extracted information: {'name': None, 'area': None, 'subway': None, 'smoking': None, 'open_space': None, 'breakfast': None, 'music': None, 'vip_space': True, 'entertainment': None, 'WiFi': None, 'time_limit': None, 'stream': None}\n",
      "INFO:root:Updated information: {'name': None, 'area': 'سعادت آباد', 'subway': None, 'smoking': True, 'open_space': None, 'breakfast': None, 'music': None, 'vip_space': True, 'entertainment': None, 'WiFi': None, 'time_limit': None, 'stream': True}\n",
      "INFO:root:Number of required criteria: 4\n",
      "INFO:root:Number of retrieved items: 660\n",
      "INFO:root:With the maximum point: 4\n",
      "INFO:root:Number of retrieved items after filtering: 5\n"
     ]
    },
    {
     "name": "stdout",
     "output_type": "stream",
     "text": [
      "{\n",
      "  \"name\": null,\n",
      "  \"area\": null,\n",
      "  \"subway\": null,\n",
      "  \"smoking\": null,\n",
      "  \"open_space\": null,\n",
      "  \"breakfast\": null,\n",
      "  \"music\": null,\n",
      "  \"vip_space\": \"yes\",\n",
      "  \"entertainment\": null,\n",
      "  \"WiFi\": null,\n",
      "  \"time_limit\": null,\n",
      "  \"stream\": null\n",
      "}\n"
     ]
    },
    {
     "name": "stderr",
     "output_type": "stream",
     "text": [
      "INFO:httpx:HTTP Request: POST https://api.avalai.ir/v1/chat/completions \"HTTP/1.1 200 OK\"\n",
      "INFO:root:Conversation finished\n"
     ]
    }
   ],
   "source": [
    "query_1 = \"سلام وقت بخیر. خواستم یه کافه اطراف سعادت آباد برم که تلویزیون داشته باشه.\"\n",
    "answer = my_class.find_cafe(query_1, None)\n",
    "\n",
    "query_2 = \"کافه ای میخوام که توش سیگار بکشم\"\n",
    "chat_id = answer[\"chat_id\"]\n",
    "answer = my_class.find_cafe(query_2, chat_id)\n",
    "\n",
    "query_3 = \"کافه ای میخوام که فضای VIP داشته باشه\"\n",
    "answer = my_class.find_cafe(query_3, chat_id)"
   ]
  },
  {
   "cell_type": "code",
   "execution_count": null,
   "metadata": {},
   "outputs": [],
   "source": []
  }
 ],
 "metadata": {
  "kernelspec": {
   "display_name": "venv",
   "language": "python",
   "name": "python3"
  },
  "language_info": {
   "codemirror_mode": {
    "name": "ipython",
    "version": 3
   },
   "file_extension": ".py",
   "mimetype": "text/x-python",
   "name": "python",
   "nbconvert_exporter": "python",
   "pygments_lexer": "ipython3",
   "version": "3.9.6"
  }
 },
 "nbformat": 4,
 "nbformat_minor": 2
}
